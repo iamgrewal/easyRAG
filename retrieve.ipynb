{
 "cells": [
  {
   "cell_type": "code",
   "execution_count": null,
   "id": "91f233d1-a833-4287-938e-a5ac072e2f16",
   "metadata": {},
   "outputs": [],
   "source": [
    "import os\n",
    "os.environ['CUDA_HOME'] = os.environ['CONDA_PREFIX']\n",
    "os.environ['LIBRARY_PATH'] = os.environ['CONDA_PREFIX']+\"/lib\"\n",
    "os.environ['LD_LIBRARY_PATH'] = os.environ['CONDA_PREFIX']+\"/lib\"\n",
    "\n",
    "from colbert.infra import Run, RunConfig\n",
    "from colbert import Searcher"
   ]
  },
  {
   "cell_type": "code",
   "execution_count": null,
   "id": "e5f4c3ca-4f1b-4461-a37d-6544ff8e4ba0",
   "metadata": {},
   "outputs": [],
   "source": [
    "with Run().context(RunConfig(experiment='exp_fringe')):\n",
    "    searcher = Searcher(index=\"index_fringe\")"
   ]
  },
  {
   "cell_type": "code",
   "execution_count": null,
   "id": "54c9c95f-0361-4a6b-8567-53a237b35681",
   "metadata": {},
   "outputs": [],
   "source": [
    "results = searcher.search(\"what is the third episode of first season of Fringe?\", k=3)\n",
    "for passage_id, passage_rank, passage_score in zip(*results):\n",
    "    print(f\"\\t [{passage_rank}] \\t\\t {passage_score:.1f} \\t\\t {searcher.collection[passage_id]}\")"
   ]
  },
  {
   "cell_type": "code",
   "execution_count": null,
   "id": "42973b52",
   "metadata": {},
   "outputs": [],
   "source": [
    "results = searcher.search(\"Which episodes of the first season of Fringe is written by J. J. Abrams.\", k=10)\n",
    "for passage_id, passage_rank, passage_score in zip(*results):\n",
    "    print(f\"\\t [{passage_rank}] \\t\\t {passage_score:.1f} \\t\\t {searcher.collection[passage_id]}\")"
   ]
  },
  {
   "cell_type": "code",
   "execution_count": null,
   "id": "ce1b5db8",
   "metadata": {},
   "outputs": [],
   "source": []
  }
 ],
 "metadata": {
  "kernelspec": {
   "display_name": "Python 3 (ipykernel)",
   "language": "python",
   "name": "python3"
  },
  "language_info": {
   "codemirror_mode": {
    "name": "ipython",
    "version": 3
   },
   "file_extension": ".py",
   "mimetype": "text/x-python",
   "name": "python",
   "nbconvert_exporter": "python",
   "pygments_lexer": "ipython3",
   "version": "3.9.18"
  }
 },
 "nbformat": 4,
 "nbformat_minor": 5
}
