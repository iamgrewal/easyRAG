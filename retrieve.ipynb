{
 "cells": [
  {
   "cell_type": "code",
   "execution_count": 1,
   "id": "91f233d1-a833-4287-938e-a5ac072e2f16",
   "metadata": {},
   "outputs": [],
   "source": [
    "import os\n",
    "os.environ['CUDA_HOME'] = os.environ['CONDA_PREFIX']\n",
    "os.environ['LIBRARY_PATH'] = os.environ['CONDA_PREFIX']+\"/lib\"\n",
    "os.environ['LD_LIBRARY_PATH'] = os.environ['CONDA_PREFIX']+\"/lib\"\n",
    "\n",
    "from colbert.infra import Run, RunConfig\n",
    "from colbert import Searcher"
   ]
  },
  {
   "cell_type": "code",
   "execution_count": 2,
   "id": "e5f4c3ca-4f1b-4461-a37d-6544ff8e4ba0",
   "metadata": {},
   "outputs": [
    {
     "name": "stdout",
     "output_type": "stream",
     "text": [
      "[Mar 09, 15:53:09] #> Loading collection...\n",
      "0M \n",
      "[Mar 09, 15:53:11] #> Loading codec...\n",
      "[Mar 09, 15:53:11] Loading decompress_residuals_cpp extension (set COLBERT_LOAD_TORCH_EXTENSION_VERBOSE=True for more info)...\n",
      "[Mar 09, 15:53:11] Loading packbits_cpp extension (set COLBERT_LOAD_TORCH_EXTENSION_VERBOSE=True for more info)...\n",
      "[Mar 09, 15:53:11] #> Loading IVF...\n",
      "[Mar 09, 15:53:11] #> Loading doclens...\n"
     ]
    },
    {
     "name": "stderr",
     "output_type": "stream",
     "text": [
      "100%|██████████| 1/1 [00:00<00:00, 2832.08it/s]"
     ]
    },
    {
     "name": "stdout",
     "output_type": "stream",
     "text": [
      "[Mar 09, 15:53:11] #> Loading codes and residuals...\n"
     ]
    },
    {
     "name": "stderr",
     "output_type": "stream",
     "text": [
      "\n",
      "100%|██████████| 1/1 [00:00<00:00, 372.69it/s]\n"
     ]
    }
   ],
   "source": [
    "with Run().context(RunConfig(experiment='exp_fringe')):\n",
    "    searcher = Searcher(index=\"index_fringe\")"
   ]
  },
  {
   "cell_type": "code",
   "execution_count": 3,
   "id": "54c9c95f-0361-4a6b-8567-53a237b35681",
   "metadata": {},
   "outputs": [
    {
     "name": "stdout",
     "output_type": "stream",
     "text": [
      "\n",
      "#> QueryTokenizer.tensorize(batch_text[0], batch_background[0], bsize) ==\n",
      "#> Input: . what is the third episode of first season of Fringe?, \t\t True, \t\t None\n",
      "#> Output IDs: torch.Size([32]), tensor([  101,     1,  2054,  2003,  1996,  2353,  2792,  1997,  2034,  2161,\n",
      "         1997, 13548,  1029,   102,   103,   103,   103,   103,   103,   103,\n",
      "          103,   103,   103,   103,   103,   103,   103,   103,   103,   103,\n",
      "          103,   103], device='cuda:0')\n",
      "#> Output Mask: torch.Size([32]), tensor([1, 1, 1, 1, 1, 1, 1, 1, 1, 1, 1, 1, 1, 1, 0, 0, 0, 0, 0, 0, 0, 0, 0, 0,\n",
      "        0, 0, 0, 0, 0, 0, 0, 0], device='cuda:0')\n",
      "\n",
      "\t [1] \t\t 26.5 \t\t \"\"\"The Ghost Network\"\" is the third episode of the first season of the American science fiction drama television series Fringe. The episode was written by co-executive producer David H. Goodman and supervising producer J. R. Orci, and was directed by Frederick E. O. Toye. The episode follows the Fringe team's investigation into a bus that was filled with amber, encasing the people inside. They discover a man named Roy (Zak Orth) who predicted it and other similar events, and Walter realizes Roy has connections to a past experiment he did over twenty years ago, called the \"\"Ghost Network\"\".\"\n",
      "\t [2] \t\t 24.5 \t\t \"\"\"The Arrival\"\" is the fourth episode of the first season of the American science fiction drama television series Fringe. The episode was written by the series co-creator and executive producer J. J. Abrams and executive producer and show runner  Jeff Pinkner. Paul A. Edwards directed it.\"\n",
      "\t [3] \t\t 24.3 \t\t \"The first season of Fringe was released on DVD and Blu-ray Disc on September 8, 2009, in region 1. In addition to all the episodes that had been aired, extras include three commentary tracks, unaired scenes, gag reels and behind the scenes features. A \"\"Fringe Pattern Analysis\"\" feature is included on the Blu-ray version as an exclusive. The sets were released on September 28, 2009, in region 2 and on September 30, 2009, in region 4.The second season features four commentary tracks, a gag reel, deleted scenes, behind the scenes videos, and the episode \"\"Unearthed\"\", an episode, produced for the first season, which aired out of schedule during the second season. It was released on DVD and Blu-ray on September 14, 2010, in region 1, on September 27, 2010, in region 2, and on November 10, 2010, in region 4.The third season features two commentary tracks, a gag reel, behind the scenes videos, and two features exclusive to the Blu-ray version. It was released on DVD and Blu-ray on September 6, 2011, in region 1, on September 26, 2011, in region 2, and on October 26, 2011, in region 4.The fourth season includes several special features, including \"\"The Culture of Fringe\"\", a roundtable discussion with series writers and university professors regarding the science featured in the series; features on how the disappearance of Peter affects the timeline, and the role of the Observers; two features covering the Fringe comic series; and a gag reel. It was released on DVD and Blu-ray on September 4, 2011, in region 1, on September 24, 2012, in region 2, and on October 31, 2012, in region 4.The fifth season includes featurettes titled \"\"A Farewell to Fringe\"\" and \"\"Fringe Panel at Comic-Con 2012\"\", as well audio commentaries and a gag reel. It was released on Blu-ray and DVD on May 7, 2013, in region 1 and on May 13, 2013, in region 2. A complete series box set was also released on the same dates of the fifth season release in the respective regions.\"\n"
     ]
    }
   ],
   "source": [
    "results = searcher.search(\"what is the third episode of first season of Fringe?\", k=3)\n",
    "for passage_id, passage_rank, passage_score in zip(*results):\n",
    "    print(f\"\\t [{passage_rank}] \\t\\t {passage_score:.1f} \\t\\t {searcher.collection[passage_id]}\")"
   ]
  },
  {
   "cell_type": "code",
   "execution_count": 5,
   "id": "42973b52",
   "metadata": {},
   "outputs": [
    {
     "name": "stdout",
     "output_type": "stream",
     "text": [
      "\t [1] \t\t 25.3 \t\t \"\"\"The Same Old Story\"\" is the second episode of the first season of the American science fiction drama television series Fringe. The episode was written by executive producer Jeff Pinkner and co-creators J. J. Abrams, Alex Kurtzman, and Roberto Orci.  When developing the series, they sought to find a medium between serialized drama and the crime procedural. \"\"The Same Old Story\"\" was the first regular episode of Fringe, and journalists viewed it as an example of what they could expect from the series. It was directed by Paul A. Edwards.\"\n",
      "\t [2] \t\t 25.3 \t\t \"\"\"The Arrival\"\" is the fourth episode of the first season of the American science fiction drama television series Fringe. The episode was written by the series co-creator and executive producer J. J. Abrams and executive producer and show runner  Jeff Pinkner. Paul A. Edwards directed it.\"\n",
      "\t [3] \t\t 24.0 \t\t The pilot episode of the Fringe television series premiered on the Fox network on September 9, 2008. The pilot to season 1 was written by the creators of the series—J. J. Abrams, Alex Kurtzman, and Roberto Orci—and directed by Alex Graves. The episode introduces the most central character, Olivia Dunham, portrayed by Anna Torv, an FBI special agent forced into the world of applied fringe science after a number of freak incidents. Dr. Walter Bishop, a scientist formerly incarcerated in a mental institution for over seventeen years, is portrayed by John Noble, while Joshua Jackson plays his son, Peter, who is hired by Olivia to assist with Walter and his work.\n",
      "\t [4] \t\t 23.0 \t\t Fringe is an American science fiction television series created by J. J. Abrams, Alex Kurtzman, and Roberto Orci. It premiered on the Fox television network on September 9, 2008, and concluded on January 18, 2013, after five seasons comprising 100 episodes. An FBI agent, Olivia Dunham (Anna Torv); a genius but dysfunctional scientist, Walter Bishop (John Noble); and his son with a troubled past, Peter Bishop (Joshua Jackson), are all members of a newly formed Fringe Division in the Federal Bureau of Investigation. Based in Boston, Massachusetts, and the team uses fringe science to investigate a series of unexplained and often ghastly occurrences which are related to a parallel universe.\n",
      "\t [5] \t\t 22.3 \t\t \"Co-creators J. J. Abrams, Alex Kurtzman and Roberto Orci, and executive producer Jeff Pinkner wrote the episode. Paul A. Edwards served as the director, his first such credit for the series. In developing Fringe, the co-creators did not want to make the series too serialized, as this was a complaint often directed at Abrams' television series Alias. They wanted to find a balance between standalone stories and serialized content, and studied procedural dramas such as Law and Order and CSI: Crime Scene Investigation for inspiration. Kurztman explained, \"\"While we make sure that our episodes are self-contained – have a beginning, a middle, and an end – the character stories can be serialized. They don't have to resolve themselves over the course of one show.\"\" \"\"The Same Old Story\"\" was Fringe's first regular episode, and some journalists viewed it as an example of how the series would be structured.The episode was based on actual recent research and involved much collaboration among the series' different departments. For the scene in which they remove the victim's eyeball, the special effects crew created a mold based on actress Elizabeth Stanley's head. Using plaster to make a prosthetic, they \"\"drilled out the eyeball and sculpt[ed] it open and [went] through a series of molds.\"\" Stanley stated that \"\"it's really cool to see the head because it really does look just like me, even though it's very gruesome because the eyeball's popping out.\"\" The prop department rigged a weapon which they called a \"\"photon gun\"\"; according to prop master Peter Gelfman, this gun was based on real devices employed in airport security that look through people's clothing for concealed weapons. VFX Supervisor Christopher Scollard explained that for the eye's last vision, they used \"\"a lot of actual photographic reference on the set and on the location,\"\" which they then used to \"\"take that imagery and composite it into the various computer monitors and displays in the lab.\"\"\"\"The Same Old Story\"\" featured guest appearances by actors Derek Cecil as Christopher Penrose and Mark Blum as his father, Dr. Claus Penrose. Other guest actors included Betty Gilpin as Loraine \"\"Amber\"\" Daisy Alcott, Bernie McInerney as old Christopher Penrose, Carmen Goodine as Amy, Ty Jones as a doctor, and Karin Agstam as John Scott's sister.\"\n",
      "\t [6] \t\t 21.8 \t\t \"Co-creator J. J. Abrams' inspiration for Fringe came from a range of sources, including the writings of Michael Crichton, the Ken Russell film Altered States, and the television series The X-Files and The Twilight Zone. The specific story for Fringe was developed during long conversations between series creators Abrams, Roberto Orci and Alex Kurtzman. The team was discussing several different options, and the idea behind Fringe appealed to them most because it contained a long-term story and characters' backstories which were not \"\"evident but alluded to in the pilot.\"\" The team spent a lot of time thinking about the \"\"trifecta of characters\"\" that they needed to have in the series, and why there were uniquely interesting. The creators decided on the idea of a father-son story because it was compelling and accessible, \"\"you don't necessarily have to know anything about science, because everyone has a parent and everyone has issues with a parent. And I think for us it's always about coming into it through character.\"\" Orci stated that the series is a combination of a procedural and an \"\"extremely serialized and very culty\"\" series, quoting as examples of each, Law & Order and Lost.The first actors cast in the pilot were Kirk Acevedo and Mark Valley in mid January 2008. John Noble and Lance Reddick were next to be cast, although it was incorrectly believed that Tomas Arana had been cast in Reddick's role. This was followed by the casting of Anna Torv, Blair Brown and Jasika Nicole. Abrams said that Torv was cast because she was a combination of \"\"sophistication, great talent, amazing looks and a complexity that is the key to the character being an interesting central character.\"\" Kurtzman felt that she was someone \"\"you want to spend time with\"\", which was critical to a series about science. Joshua Jackson was the last series regular to be cast. Jackson auditioned for the role of James T. Kirk in Abrams' Star Trek and believed this is what impressed the producer to cast him in his television project. According to Abrams, Jackson's casting was \"\"very last minute.\"\"While the pilot was set in and around Boston, production was set in Toronto, Ontario, Canada. The episode cost $10 million to produce, making it one of the most expensive pilots in television history. Following the pilot's filming, production for the series moved to New York. The producers were forced to hire a new cow for the remainder of the season because they were not allowed to transport the original cow from Canada to New York. Production team members noted that they were prepared to paint new cows if viewers noted the differences in spots.Three months prior to its broadcast, an incomplete version of the pilot was released through BitTorrent clients, fueling speculation that it was leaked deliberately to increase interest in the program. Executive producer Burk denied the claims, saying that \"\"we hate putting anything out there until it's done, and that's really the reason why you guys didn't get any advance copies.\"\" Abrams said that while the production crew \"\"freaked out\"\" about the leak, he was pleased that the \"\"response has been much more positive than not, especially for something that wasn't completed yet.\"\" The broadcast version of the pilot had new scenes added while other scenes were removed; Abrams also said that there was \"\"tightening and moving some moments here and there\"\", and the ending was entirely different. Burk also stated that the composer, Michael Giacchino, had not finished his score at the time of the leak, and the most of the featured music was temp music. A variation of a piece of Giacchino's music called \"\"Hollywood and Vines\"\" used in the pilot was originally featured on Lost, as it was created for that show, also created by Abrams.\"\n",
      "\t [7] \t\t 21.7 \t\t \"\"\"Midnight\"\" is the eighteenth episode of the first season of the American science fiction drama television series Fringe. It was written by J. H. Wyman and Andrew Kreisberg, and directed by Bobby Roth. In the episode, Fringe Division apprehend a scientist with ties to the terrorist group ZFT, who will hand them everything he knows on ZFT, in exchange for helping his wife, who was infected with a contagion that makes her kill people for their spinal fluid.\"\n",
      "\t [8] \t\t 21.7 \t\t \"In her 2011 book Into the Looking Glass: Exploring the Worlds of Fringe, author Sarah Clarke Stuart observed that two unrelated Fringe characters, Conrad Moreau of \"\"The Transformation\"\" and Moreau (Brad Dourif) of \"\"The Day We Died\"\", are allusions to H. G. Wells' 1896 novel The Island of Doctor Moreau. Both are \"\"scientifically inspired men with questionable integrity,\"\" while Wells' Doctor Moreau is an \"\"unethical researcher\"\" who fell \"\"under the overmastering spell of research,\"\" in a vein similar to Walter.Like the pilot episode, \"\"The Transformation\"\" begins on the passenger section of an airplane in flight. Actor Mark Valley was asked how the episode differed from the pilot, leading him to joke that \"\"it's a completely different airline this time.\"\" His character, John Scott, was first seen in an episode about a plane disaster; accordingly, IGN expressed, it made sense thematically to have his last appearance be in an episode about a similar type of disaster. The Los Angeles Times viewed the flight number of 718 and its subsequent crash as a nod to co-creator J. J. Abrams' other series, Lost.The episode also had an influence on the series' fourth season, which featured parallel stories to those that occurred in earlier episodes. The season's sixteenth episode, \"\"Nothing As It Seems\"\", centers around the \"\"designer virus\"\" that had caused Marshall Bowman to transform, but this time he does so in the airport after his plane has safely landed. Peter recognizes the case from his own timeline, as seen in the events of \"\"The Transformation\"\", and helps the Fringe team locate Daniel Hicks.\"\n",
      "\t [9] \t\t 21.4 \t\t \"\"\"Inner Child\"\"  is the 15th episode of the first season of the American science fiction drama television series Fringe, and the fifteenth  episode overall. The episode was written by co-producer Brad Caleb Kane and staff writer Julia Cho and directed by filmmaker Frederick E. O. Toye. It first aired in the United States on April 7, 2009 on the Fox Broadcasting Company.\"\n",
      "\t [10] \t\t 21.2 \t\t \"\"\"The No-Brainer\"\" is the twelfth episode of the first season of the American science fiction drama television series Fringe. The episode was written by David H. Goodman and Brad Caleb Kane, and it was directed by John Polson.\"\n"
     ]
    }
   ],
   "source": [
    "results = searcher.search(\"Which episodes of the first season of Fringe is written by J. J. Abrams.\", k=10)\n",
    "for passage_id, passage_rank, passage_score in zip(*results):\n",
    "    print(f\"\\t [{passage_rank}] \\t\\t {passage_score:.1f} \\t\\t {searcher.collection[passage_id]}\")"
   ]
  },
  {
   "cell_type": "code",
   "execution_count": null,
   "id": "ce1b5db8",
   "metadata": {},
   "outputs": [],
   "source": []
  }
 ],
 "metadata": {
  "kernelspec": {
   "display_name": "Python 3 (ipykernel)",
   "language": "python",
   "name": "python3"
  },
  "language_info": {
   "codemirror_mode": {
    "name": "ipython",
    "version": 3
   },
   "file_extension": ".py",
   "mimetype": "text/x-python",
   "name": "python",
   "nbconvert_exporter": "python",
   "pygments_lexer": "ipython3",
   "version": "3.9.18"
  }
 },
 "nbformat": 4,
 "nbformat_minor": 5
}
