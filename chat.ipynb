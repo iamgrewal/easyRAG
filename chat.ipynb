{
 "cells": [
  {
   "cell_type": "code",
   "execution_count": null,
   "id": "ce1b5db8",
   "metadata": {},
   "outputs": [],
   "source": [
    "import os\n",
    "os.environ['CUDA_HOME'] = os.environ['CONDA_PREFIX']\n",
    "os.environ['LIBRARY_PATH'] = os.environ['CONDA_PREFIX']+\"/lib\"\n",
    "os.environ['LD_LIBRARY_PATH'] = os.environ['CONDA_PREFIX']+\"/lib\"\n",
    "\n",
    "import dspy"
   ]
  },
  {
   "cell_type": "code",
   "execution_count": null,
   "id": "8f4acebd",
   "metadata": {},
   "outputs": [],
   "source": [
    "lm = dspy.HFModel(model=\"google/flan-t5-base\", )\n",
    "retriever = dspy.ColBERTv2(url='http://localhost:8001/api/search')\n",
    "dspy.settings.configure(lm=lm, rm=retriever)"
   ]
  },
  {
   "cell_type": "code",
   "execution_count": null,
   "id": "6fe5f9f0",
   "metadata": {},
   "outputs": [],
   "source": [
    "class BasicQA(dspy.Signature):\n",
    "    \"\"\"Answer the question with a short answer.\"\"\"\n",
    "\n",
    "    question = dspy.InputField()\n",
    "    answer = dspy.OutputField()\n",
    "\n",
    "qa = dspy.Predict(BasicQA)"
   ]
  },
  {
   "cell_type": "code",
   "execution_count": null,
   "id": "39aabb0a",
   "metadata": {},
   "outputs": [],
   "source": [
    "ans = qa(question=\"What is Fringe?\")\n",
    "print(ans.answer)"
   ]
  },
  {
   "cell_type": "code",
   "execution_count": null,
   "id": "06fc2eb5",
   "metadata": {},
   "outputs": [],
   "source": [
    "ans = qa(question=\"What is the name of the third episode of Fringe?\")\n",
    "print(ans.answer)"
   ]
  },
  {
   "cell_type": "code",
   "execution_count": null,
   "id": "4d53ec61",
   "metadata": {},
   "outputs": [],
   "source": [
    "class GenerateAnswerWithContext(dspy.Signature):\n",
    "    \"\"\"Answer the question with a short answer.\"\"\"\n",
    "\n",
    "    context = dspy.InputField(desc=\"may contain relevant facts to consider\")\n",
    "    question = dspy.InputField()\n",
    "    answer = dspy.OutputField(desc=\"short answer\")\n",
    "\n",
    "\n",
    "class RAG(dspy.Module):\n",
    "    def __init__(self, num_passages=3):\n",
    "        super().__init__()\n",
    "        self.retrieve = dspy.Retrieve(k=num_passages)\n",
    "        self.generate_answer = dspy.ChainOfThought(GenerateAnswerWithContext)\n",
    "    \n",
    "    def forward(self, question):\n",
    "        context = self.retrieve(question).passages\n",
    "        prediction = self.generate_answer(context=context, question=question)\n",
    "        return dspy.Prediction(context=context, answer=prediction.answer)\n",
    "    \n",
    "rag = RAG()"
   ]
  },
  {
   "cell_type": "code",
   "execution_count": null,
   "id": "e488332a",
   "metadata": {},
   "outputs": [],
   "source": [
    "ans = rag(question=\"What is Fringe?\")\n",
    "print(ans.answer)"
   ]
  },
  {
   "cell_type": "code",
   "execution_count": null,
   "id": "85e417b3",
   "metadata": {},
   "outputs": [],
   "source": [
    "ans = rag(question=\"What is the name of the third episode of Fringe?\")\n",
    "print(ans.answer)"
   ]
  },
  {
   "cell_type": "code",
   "execution_count": null,
   "id": "6bb69faf",
   "metadata": {},
   "outputs": [],
   "source": [
    "ans = rag(question=\"What does Fringe Division do?\")\n",
    "print(ans.answer)"
   ]
  },
  {
   "cell_type": "code",
   "execution_count": null,
   "id": "bc2a7189",
   "metadata": {},
   "outputs": [],
   "source": [
    "ans = rag(question=\"Which episodes are directed by J. J. Abrams?\")\n",
    "print(ans.answer)"
   ]
  },
  {
   "cell_type": "code",
   "execution_count": null,
   "id": "bff7e58a",
   "metadata": {},
   "outputs": [],
   "source": []
  }
 ],
 "metadata": {
  "kernelspec": {
   "display_name": "Python 3 (ipykernel)",
   "language": "python",
   "name": "python3"
  },
  "language_info": {
   "codemirror_mode": {
    "name": "ipython",
    "version": 3
   },
   "file_extension": ".py",
   "mimetype": "text/x-python",
   "name": "python",
   "nbconvert_exporter": "python",
   "pygments_lexer": "ipython3",
   "version": "3.9.18"
  }
 },
 "nbformat": 4,
 "nbformat_minor": 5
}
